{
 "cells": [
  {
   "cell_type": "code",
   "execution_count": 1,
   "metadata": {},
   "outputs": [
    {
     "name": "stdout",
     "output_type": "stream",
     "text": [
      "12345678 is a weak password.\n",
      "Abcd@1234  is a strong password.\n"
     ]
    }
   ],
   "source": [
    "import re \n",
    "def check_password(password): \n",
    "  if len(password) < 8: \n",
    "    return False\n",
    "  elif re.search('[0-9]',password) is None: \n",
    "    return False\n",
    "  elif re.search('[a-z]',password) is None: \n",
    "    return False\n",
    "  elif re.search('[A-Z]',password) is None: \n",
    "    return False\n",
    "  elif re.search('[@#$^&]',password) is None: \n",
    "    return False\n",
    "  return True\n",
    "      \n",
    "for password in [\"12345678\", \"Abcd@1234\"]: \n",
    "  if(check_password(password)): \n",
    "    print(password, \" is a strong password.\") \n",
    "  else: \n",
    "    print(password, \"is a weak password.\")"
   ]
  }
 ],
 "metadata": {
  "kernelspec": {
   "display_name": "Python 3",
   "language": "python",
   "name": "python3"
  },
  "language_info": {
   "codemirror_mode": {
    "name": "ipython",
    "version": 3
   },
   "file_extension": ".py",
   "mimetype": "text/x-python",
   "name": "python",
   "nbconvert_exporter": "python",
   "pygments_lexer": "ipython3",
   "version": "3.12.0"
  },
  "orig_nbformat": 4
 },
 "nbformat": 4,
 "nbformat_minor": 2
}
