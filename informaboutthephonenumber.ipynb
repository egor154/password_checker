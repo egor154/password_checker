{
 "cells": [
  {
   "cell_type": "code",
   "execution_count": 4,
   "metadata": {},
   "outputs": [
    {
     "name": "stdout",
     "output_type": "stream",
     "text": [
      "{'basic_data': PhoneNumber(country_code=7, national_number=9127479613, extension=None, italian_leading_zero=None, number_of_leading_zeros=None, country_code_source=0, preferred_domestic_carrier_code=None), 'time_zone': ('Asia/Almaty', 'Asia/Anadyr', 'Asia/Aqtobe', 'Asia/Irkutsk', 'Asia/Kamchatka', 'Asia/Krasnoyarsk', 'Asia/Magadan', 'Asia/Novosibirsk', 'Asia/Omsk', 'Asia/Sakhalin', 'Asia/Vladivostok', 'Asia/Yakutsk', 'Asia/Yekaterinburg', 'Europe/Bucharest', 'Europe/Moscow', 'Europe/Samara'), 'carrier': '', 'is_valid': True, 'is_possible': True}\n"
     ]
    }
   ],
   "source": [
    "import phonenumbers\n",
    "from phonenumbers import timezone, geocoder, carrier\n",
    "\n",
    "# Parsing String to Phone number\n",
    "def get_phone_data(number):\n",
    "    phoneNumber = phonenumbers.parse(number)\n",
    "    return {\n",
    "        \"basic_data\": phoneNumber,\n",
    "        \"time_zone\": timezone.time_zones_for_number(phoneNumber),\n",
    "        \"carrier\": carrier.name_for_number(phoneNumber, 'en'),\n",
    "        \"is_valid\": phonenumbers.is_valid_number(phoneNumber),\n",
    "        \"is_possible\": phonenumbers.is_possible_number(phoneNumber)\n",
    "    }\n",
    "\n",
    "print(get_phone_data(\"+91XXXXXXXXXX\"))\n"
   ]
  }
 ],
 "metadata": {
  "kernelspec": {
   "display_name": "Python 3",
   "language": "python",
   "name": "python3"
  },
  "language_info": {
   "codemirror_mode": {
    "name": "ipython",
    "version": 3
   },
   "file_extension": ".py",
   "mimetype": "text/x-python",
   "name": "python",
   "nbconvert_exporter": "python",
   "pygments_lexer": "ipython3",
   "version": "3.12.0"
  },
  "orig_nbformat": 4
 },
 "nbformat": 4,
 "nbformat_minor": 2
}
